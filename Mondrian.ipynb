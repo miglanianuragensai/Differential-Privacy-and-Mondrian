{
 "cells": [
  {
   "cell_type": "code",
   "execution_count": 1,
   "metadata": {
    "collapsed": false
   },
   "outputs": [],
   "source": [
    "#Importing the libraries\n",
    "import random as random\n",
    "import numpy as np\n",
    "import pandas as pd"
   ]
  },
  {
   "cell_type": "code",
   "execution_count": 2,
   "metadata": {
    "collapsed": true
   },
   "outputs": [],
   "source": [
    "#Data generation function\n",
    "def Create_data(noofrows,c1minrange, c1maxrange, c2minrange, c2maxrange): #define the function\n",
    "    myData = pd.DataFrame(np.zeros(shape=(noofrows,3))) #Create a dataframe which is just like a dataset with 3 colms\n",
    "    myData.columns = [\"C_1\", \"C_2\",\"Disease\"] #give the names\n",
    "    domaine_SD = [\"A1\", \"A2\", \"A3\", \"B1\", \"B2\", \"B3\"] #List of diseases\n",
    "    for i in range(noofrows):        #Randomly generate values within ranges\n",
    "        myData[\"C_1\"][i] = random.randint(c1minrange, c1maxrange) #Column1 values\n",
    "        myData[\"C_2\"][i] = random.randint(c2minrange, c2maxrange) #Column2 values\n",
    "        myData[\"Disease\"][i] = domaine_SD[random.randint(0, 5)] #Random index in list of diseases\n",
    "    return (myData) #return the dataset"
   ]
  },
  {
   "cell_type": "code",
   "execution_count": 3,
   "metadata": {
    "collapsed": false
   },
   "outputs": [],
   "source": [
    "import warnings #ignore the warnings if any, in case of strong warnings error comes in\n",
    "warnings.filterwarnings('ignore')"
   ]
  },
  {
   "cell_type": "code",
   "execution_count": 4,
   "metadata": {
    "collapsed": false
   },
   "outputs": [],
   "source": [
    "def Mondrian( df,k):\n",
    "    if ((len(df.C_1)/2) >= k):\n",
    "        #If the length of the column is less than the given value, then divide it\n",
    "        tdim1 = df['C_1'].max() - df['C_1'].min() ; #Max value - min value\n",
    "        tdim2 = df['C_2'].max() - df['C_2'].min() ; #Max value - min value\n",
    "        tdim = tdim1\n",
    "\n",
    "        if (tdim < tdim2):\n",
    "            tdim = tdim2 #Substituting the dimension\n",
    "            #order the dataframe after the dimension that is the highest\n",
    "            df_sort = df.sort_values(['C_2'], ascending=True)#Sort to find median\n",
    "            the_median =int(df['C_2'].median())#find median\n",
    "\n",
    "        else:\n",
    "            df_sort = df.sort_values(['C_2'], ascending=True)#sort to find median\n",
    "            the_median =int(df['C_2'].median())#find the median\n",
    "            list_comp = np.array_split(df_sort, 2)#split with respect to dimension\n",
    "            left = list_comp[0]#left\n",
    "            right = list_comp[1]#right\n",
    "\n",
    "            Mondrian(left,k)#recursive call\n",
    "            Mondrian(right,k)#recursive call\n",
    "    else:\n",
    "                \n",
    "        index = len(mondriandata) + 1\n",
    "        var = \"[\" + str(df['C_1'].min()) + \" , \" + str(df['C_1'].max()) + \"]\"\n",
    "        var2 = \"[\" + str(df['C_2'].min()) + \",\" + str(df['C_2'].max()) + \"]\"\n",
    "        var3 = df[\"Disease\"].tolist()\n",
    "        mondriandata.loc[index] =  [var,var2,var3]\n",
    "\n",
    "    \n",
    "    return mondriandata"
   ]
  },
  {
   "cell_type": "code",
   "execution_count": 5,
   "metadata": {
    "collapsed": false
   },
   "outputs": [
    {
     "data": {
      "text/html": [
       "<div>\n",
       "<table border=\"1\" class=\"dataframe\">\n",
       "  <thead>\n",
       "    <tr style=\"text-align: right;\">\n",
       "      <th></th>\n",
       "      <th>C_1</th>\n",
       "      <th>C_2</th>\n",
       "      <th>Disease</th>\n",
       "    </tr>\n",
       "  </thead>\n",
       "  <tbody>\n",
       "    <tr>\n",
       "      <th>1</th>\n",
       "      <td>[1441.0 , 1880.0]</td>\n",
       "      <td>[6108.0,6431.0]</td>\n",
       "      <td>[A3, B2, B2, B2, B3]</td>\n",
       "    </tr>\n",
       "    <tr>\n",
       "      <th>2</th>\n",
       "      <td>[1054.0 , 1902.0]</td>\n",
       "      <td>[6491.0,6872.0]</td>\n",
       "      <td>[B2, A1, A2, B3, B1]</td>\n",
       "    </tr>\n",
       "  </tbody>\n",
       "</table>\n",
       "</div>"
      ],
      "text/plain": [
       "                 C_1              C_2               Disease\n",
       "1  [1441.0 , 1880.0]  [6108.0,6431.0]  [A3, B2, B2, B2, B3]\n",
       "2  [1054.0 , 1902.0]  [6491.0,6872.0]  [B2, A1, A2, B3, B1]"
      ]
     },
     "execution_count": 5,
     "metadata": {},
     "output_type": "execute_result"
    }
   ],
   "source": [
    "datarandom = Create_data(10,1000,2000,6000,7000) #create the data\n",
    "mondriandata = pd.DataFrame(columns=('C_1', 'C_2', 'Disease'))\n",
    "mondriandata = Mondrian(datarandom,3)\n",
    "mondriandata"
   ]
  },
  {
   "cell_type": "code",
   "execution_count": 6,
   "metadata": {
    "collapsed": false
   },
   "outputs": [
    {
     "data": {
      "text/html": [
       "<div>\n",
       "<table border=\"1\" class=\"dataframe\">\n",
       "  <thead>\n",
       "    <tr style=\"text-align: right;\">\n",
       "      <th></th>\n",
       "      <th>C_1</th>\n",
       "      <th>C_2</th>\n",
       "      <th>Disease</th>\n",
       "    </tr>\n",
       "  </thead>\n",
       "  <tbody>\n",
       "    <tr>\n",
       "      <th>0</th>\n",
       "      <td>1544</td>\n",
       "      <td>6243</td>\n",
       "      <td>B2</td>\n",
       "    </tr>\n",
       "    <tr>\n",
       "      <th>1</th>\n",
       "      <td>1797</td>\n",
       "      <td>6704</td>\n",
       "      <td>A1</td>\n",
       "    </tr>\n",
       "    <tr>\n",
       "      <th>2</th>\n",
       "      <td>1902</td>\n",
       "      <td>6491</td>\n",
       "      <td>B2</td>\n",
       "    </tr>\n",
       "    <tr>\n",
       "      <th>3</th>\n",
       "      <td>1283</td>\n",
       "      <td>6872</td>\n",
       "      <td>B1</td>\n",
       "    </tr>\n",
       "    <tr>\n",
       "      <th>4</th>\n",
       "      <td>1607</td>\n",
       "      <td>6400</td>\n",
       "      <td>B2</td>\n",
       "    </tr>\n",
       "    <tr>\n",
       "      <th>5</th>\n",
       "      <td>1880</td>\n",
       "      <td>6345</td>\n",
       "      <td>B2</td>\n",
       "    </tr>\n",
       "    <tr>\n",
       "      <th>6</th>\n",
       "      <td>1441</td>\n",
       "      <td>6108</td>\n",
       "      <td>A3</td>\n",
       "    </tr>\n",
       "    <tr>\n",
       "      <th>7</th>\n",
       "      <td>1146</td>\n",
       "      <td>6841</td>\n",
       "      <td>B3</td>\n",
       "    </tr>\n",
       "    <tr>\n",
       "      <th>8</th>\n",
       "      <td>1054</td>\n",
       "      <td>6722</td>\n",
       "      <td>A2</td>\n",
       "    </tr>\n",
       "    <tr>\n",
       "      <th>9</th>\n",
       "      <td>1577</td>\n",
       "      <td>6431</td>\n",
       "      <td>B3</td>\n",
       "    </tr>\n",
       "  </tbody>\n",
       "</table>\n",
       "</div>"
      ],
      "text/plain": [
       "    C_1   C_2 Disease\n",
       "0  1544  6243      B2\n",
       "1  1797  6704      A1\n",
       "2  1902  6491      B2\n",
       "3  1283  6872      B1\n",
       "4  1607  6400      B2\n",
       "5  1880  6345      B2\n",
       "6  1441  6108      A3\n",
       "7  1146  6841      B3\n",
       "8  1054  6722      A2\n",
       "9  1577  6431      B3"
      ]
     },
     "execution_count": 6,
     "metadata": {},
     "output_type": "execute_result"
    }
   ],
   "source": [
    "datarandom"
   ]
  }
 ],
 "metadata": {
  "kernelspec": {
   "display_name": "Python 3",
   "language": "python",
   "name": "python3"
  },
  "language_info": {
   "codemirror_mode": {
    "name": "ipython",
    "version": 3
   },
   "file_extension": ".py",
   "mimetype": "text/x-python",
   "name": "python",
   "nbconvert_exporter": "python",
   "pygments_lexer": "ipython3",
   "version": "3.5.1"
  }
 },
 "nbformat": 4,
 "nbformat_minor": 0
}
